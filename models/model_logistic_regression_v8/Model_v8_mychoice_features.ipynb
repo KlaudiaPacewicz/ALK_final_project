{
 "cells": [
  {
   "cell_type": "code",
   "execution_count": 48,
   "id": "ac0dd20d-fac8-43f6-b011-c17542fc494e",
   "metadata": {},
   "outputs": [],
   "source": [
    "import pandas as pd\n",
    "import numpy as np\n",
    "from sklearn.model_selection import train_test_split, cross_val_score, RepeatedKFold, learning_curve\n",
    "from sklearn import linear_model\n",
    "from sklearn.linear_model import LogisticRegression\n",
    "from sklearn import preprocessing\n",
    "from sklearn.preprocessing import StandardScaler\n",
    "from sklearn.metrics import accuracy_score, precision_score, recall_score, confusion_matrix, classification_report, f1_score, roc_auc_score"
   ]
  },
  {
   "cell_type": "markdown",
   "id": "a2e9d8ad-b18a-4f25-93fe-643a06434e6d",
   "metadata": {},
   "source": [
    "# 8th model run - labels v1, my choice features"
   ]
  },
  {
   "cell_type": "code",
   "execution_count": 49,
   "id": "a757d80e-cd4c-477a-baee-d0f80b774b9b",
   "metadata": {},
   "outputs": [
    {
     "name": "stdout",
     "output_type": "stream",
     "text": [
      "['BRCA1/2_mut', 'other_HRR_gene_mutation_somatic', 'cnv_N_CNdipl', 'cnv_N_CNloss', 'cnv_N_CNgain', 'cnv_CNlt5_frac', 'cnv_CNgt10_frac', 'cnv_evenCN_frac', 'cnv_CNloss_frac', 'cnv_DUP_len_30000_inf', 'cnv_DUP_len_30_100', 'cnv_DEL_len_100000_inf', 'cnv_DIPLOID_len_100000_inf', 'sv_n_trans', 'sv_n_del', 'sv_n_inv', 'sv_n_tadem_dup', 'sv_trans_frac', 'sv_del_frac', 'sv_inv_frac', 'sv_tadem_dup_frac', 'sv_n_all_sv', 'sv_n_svclass_stdev', 'sv_dup_30000+', 'sv_del_100000+', 'sv_microhom_deletion_mean', 'sv_microhom_inversion_mean', 'sv_microhom_tandem-duplication_mean', 'sv_microhom_translocation_mean', 'indel_n_del', 'indel_n_ins', 'ins_indel_ratio', 'del_indel_ratio', 'indel_DEL_len_1', 'indel_DEL_len_2', 'indel_DEL_len_3', 'indel_DEL_len_4', 'indel_DEL_len_inf', 'indel_INS_len_1', 'indel_INS_len_2', 'indel_INS_len_3', 'indel_INS_len_4', 'indel_INS_len_inf', 'indel_DEL_mh', 'indel_DEL_noMHstatus', 'indel_DEL_rep', 'indel_del_mh_ratio', 'Telomeric_AI', 'Interstitial_AI', 'Telomeric_LOH', 'Interstitial_LOH', 'Ploidy', 'aberrant_cell_fraction', 'LST_count', 'LOH_count', 'MSI', 'cnv_DEL_0_3500_sum_indel_DEL_len_inf', 'indel_INS_len_inf_sum_cnv_DUP_0_30000', 'indel_INS_len_inf_sum_cnv_DUP_0_1000', 'frac_cnv_DUP_len_30000_inf', 'frac_cnv_DEL_len_100000_inf', 'frac_cnv_DIPLOID_len_100000_inf', 'frac_sv_dup_30000+', 'frac_sv_del_frac', 'frac_sv_del_100000+', 'FBI_relaxed', 'percent_all_cc2ca', 'percent_all_cc2ct', 'cc2ca_vs_cc2ct', 'SBS31', 'ccne1_amp', 'resistant_ccne1_over_6', 'cnv_DUP_len_0_30000', 'cnv_DEL_len_0_100000', 'cnv_DIPLOID_len_0_100000', 'sv_dup_0_30000', 'sv_del_0_100000', 'frac_cnv_DUP_len_0_30000', 'frac_cnv_DEL_len_0_100000', 'frac_cnv_DIPLOID_len_0_100000', 'frac_sv_dup_0_30000', 'frac_sv_del_0_100000']\n"
     ]
    },
    {
     "data": {
      "text/html": [
       "<div>\n",
       "<style scoped>\n",
       "    .dataframe tbody tr th:only-of-type {\n",
       "        vertical-align: middle;\n",
       "    }\n",
       "\n",
       "    .dataframe tbody tr th {\n",
       "        vertical-align: top;\n",
       "    }\n",
       "\n",
       "    .dataframe thead th {\n",
       "        text-align: right;\n",
       "    }\n",
       "</style>\n",
       "<table border=\"1\" class=\"dataframe\">\n",
       "  <thead>\n",
       "    <tr style=\"text-align: right;\">\n",
       "      <th></th>\n",
       "      <th>Telomeric_AI</th>\n",
       "      <th>LST_count</th>\n",
       "      <th>LOH_count</th>\n",
       "    </tr>\n",
       "    <tr>\n",
       "      <th>SAMPLE_ID</th>\n",
       "      <th></th>\n",
       "      <th></th>\n",
       "      <th></th>\n",
       "    </tr>\n",
       "  </thead>\n",
       "  <tbody>\n",
       "    <tr>\n",
       "      <th>Sample_0002</th>\n",
       "      <td>16</td>\n",
       "      <td>0</td>\n",
       "      <td>5</td>\n",
       "    </tr>\n",
       "    <tr>\n",
       "      <th>Sample_0003</th>\n",
       "      <td>21</td>\n",
       "      <td>10</td>\n",
       "      <td>6</td>\n",
       "    </tr>\n",
       "    <tr>\n",
       "      <th>Sample_0004</th>\n",
       "      <td>34</td>\n",
       "      <td>39</td>\n",
       "      <td>20</td>\n",
       "    </tr>\n",
       "    <tr>\n",
       "      <th>Sample_0005</th>\n",
       "      <td>11</td>\n",
       "      <td>0</td>\n",
       "      <td>1</td>\n",
       "    </tr>\n",
       "    <tr>\n",
       "      <th>Sample_0006</th>\n",
       "      <td>13</td>\n",
       "      <td>3</td>\n",
       "      <td>4</td>\n",
       "    </tr>\n",
       "    <tr>\n",
       "      <th>...</th>\n",
       "      <td>...</td>\n",
       "      <td>...</td>\n",
       "      <td>...</td>\n",
       "    </tr>\n",
       "    <tr>\n",
       "      <th>Sample_0251</th>\n",
       "      <td>26</td>\n",
       "      <td>24</td>\n",
       "      <td>15</td>\n",
       "    </tr>\n",
       "    <tr>\n",
       "      <th>Sample_0252</th>\n",
       "      <td>23</td>\n",
       "      <td>6</td>\n",
       "      <td>8</td>\n",
       "    </tr>\n",
       "    <tr>\n",
       "      <th>Sample_0253</th>\n",
       "      <td>30</td>\n",
       "      <td>23</td>\n",
       "      <td>19</td>\n",
       "    </tr>\n",
       "    <tr>\n",
       "      <th>Sample_0254</th>\n",
       "      <td>25</td>\n",
       "      <td>14</td>\n",
       "      <td>13</td>\n",
       "    </tr>\n",
       "    <tr>\n",
       "      <th>Sample_0255</th>\n",
       "      <td>13</td>\n",
       "      <td>1</td>\n",
       "      <td>1</td>\n",
       "    </tr>\n",
       "  </tbody>\n",
       "</table>\n",
       "<p>247 rows × 3 columns</p>\n",
       "</div>"
      ],
      "text/plain": [
       "             Telomeric_AI  LST_count  LOH_count\n",
       "SAMPLE_ID                                      \n",
       "Sample_0002            16          0          5\n",
       "Sample_0003            21         10          6\n",
       "Sample_0004            34         39         20\n",
       "Sample_0005            11          0          1\n",
       "Sample_0006            13          3          4\n",
       "...                   ...        ...        ...\n",
       "Sample_0251            26         24         15\n",
       "Sample_0252            23          6          8\n",
       "Sample_0253            30         23         19\n",
       "Sample_0254            25         14         13\n",
       "Sample_0255            13          1          1\n",
       "\n",
       "[247 rows x 3 columns]"
      ]
     },
     "execution_count": 49,
     "metadata": {},
     "output_type": "execute_result"
    }
   ],
   "source": [
    "labels = pd.read_csv('./../../labels/labels_v1/labels_v1.csv', index_col=0)\n",
    "features = pd.read_csv('./../../data_preprocessing/genetic_data_preprocessing/cleaned_Genomic_features_all_repositories.csv', index_col=0)\n",
    "\n",
    "print(list(features))\n",
    "\n",
    "my_choice_features = features[['Telomeric_AI', 'LST_count', 'LOH_count']]\n",
    "my_choice_features"
   ]
  },
  {
   "cell_type": "markdown",
   "id": "937dccb8-6b4d-44b8-9d44-7864b50d93f1",
   "metadata": {},
   "source": [
    "## Merge features and labels"
   ]
  },
  {
   "cell_type": "code",
   "execution_count": 50,
   "id": "7f29eccc-160f-41d8-80b0-c4eb3e1224b3",
   "metadata": {},
   "outputs": [],
   "source": [
    "table_v8 = pd.merge(my_choice_features, labels, on='SAMPLE_ID', how='inner')\n",
    "\n",
    "table_v8 = table_v8.drop(columns=['Unnamed: 0'], errors='ignore')\n",
    "\n",
    "table_v8 = table_v8.set_index('SAMPLE_ID', inplace=False)\n",
    "table_v8.to_csv('merged_features_and_labelsv1_v8.csv')"
   ]
  },
  {
   "cell_type": "markdown",
   "id": "9a7c887d-40fc-40d8-9346-d15e4231c335",
   "metadata": {},
   "source": [
    "## 8th model run - labels v1, my choice features"
   ]
  },
  {
   "cell_type": "markdown",
   "id": "79882d64-fe3c-4cfb-87ad-e7da1af5f8db",
   "metadata": {},
   "source": [
    "### Train/test split"
   ]
  },
  {
   "cell_type": "code",
   "execution_count": 51,
   "id": "9ec06304-35c6-4276-acf8-3df66fe1f6b1",
   "metadata": {},
   "outputs": [],
   "source": [
    "columns_to_drop = ['labels_v1']\n",
    "\n",
    "# features definition\n",
    "X = table_v8.drop(columns_to_drop, axis=1)\n",
    "\n",
    "# labels definition\n",
    "y = table_v8['labels_v1'] # labels\n",
    "\n",
    "original_indices = X.index"
   ]
  },
  {
   "cell_type": "code",
   "execution_count": 52,
   "id": "1353b7ee-42b4-49e7-ac93-0bef12c2914d",
   "metadata": {},
   "outputs": [],
   "source": [
    "X_train, X_test, y_train, y_test, idx_train, idx_test = train_test_split(X, y, original_indices, test_size=0.3, random_state=42)"
   ]
  },
  {
   "cell_type": "markdown",
   "id": "dcf66c43-d05f-4afc-be1c-4a55ff8f0aaa",
   "metadata": {},
   "source": [
    "### Features normalization"
   ]
  },
  {
   "cell_type": "code",
   "execution_count": 53,
   "id": "ea46f0bd-33eb-4441-b949-918eb2f7b37d",
   "metadata": {},
   "outputs": [
    {
     "name": "stdout",
     "output_type": "stream",
     "text": [
      "Cross-validation scores: [0.63888889 0.67741935 0.64102564 0.64864865 0.61111111]\n",
      "Mean precision: 0.6434187289025999\n"
     ]
    }
   ],
   "source": [
    "model = LogisticRegression()\n",
    "model.fit(X_train, y_train)\n",
    "\n",
    "scores = cross_val_score(model, X, y, cv=5, scoring='precision')\n",
    "\n",
    "# Print the cross-validation scores\n",
    "print(\"Cross-validation scores:\", scores)\n",
    "print(\"Mean precision:\", scores.mean())"
   ]
  },
  {
   "cell_type": "markdown",
   "id": "79e642fe-4fb8-4433-ab15-07de913bc659",
   "metadata": {},
   "source": [
    "### Model testing"
   ]
  },
  {
   "cell_type": "code",
   "execution_count": 54,
   "id": "fbe38b78-8ae8-4652-aa02-a5c5b0c065d9",
   "metadata": {},
   "outputs": [],
   "source": [
    "y_pred = model.predict(X_test)\n",
    "\n",
    "y_pred_list = pd.DataFrame(y_pred, columns=['Predicted'], index=idx_test)\n",
    "y_pred_list.to_csv('predicted_labelsv1_test_set_v8.csv')"
   ]
  },
  {
   "cell_type": "markdown",
   "id": "a0d38f47-c851-416a-aeae-a2ead98cba4e",
   "metadata": {},
   "source": [
    "### Model evaluation"
   ]
  },
  {
   "cell_type": "code",
   "execution_count": 55,
   "id": "d55463b7-117f-4d96-88a5-3815af784fa4",
   "metadata": {},
   "outputs": [
    {
     "name": "stdout",
     "output_type": "stream",
     "text": [
      "Accuracy: 0.559322033898305\n",
      "AUC: 0.47797619047619044\n",
      "Confusion Matrix:\n",
      "[[ 1 23]\n",
      " [ 3 32]]\n",
      "Classification Report:\n",
      "              precision    recall  f1-score   support\n",
      "\n",
      "           0       0.25      0.04      0.07        24\n",
      "           1       0.58      0.91      0.71        35\n",
      "\n",
      "    accuracy                           0.56        59\n",
      "   macro avg       0.42      0.48      0.39        59\n",
      "weighted avg       0.45      0.56      0.45        59\n",
      "\n"
     ]
    }
   ],
   "source": [
    "accuracy = accuracy_score(y_test, y_pred)\n",
    "cm = confusion_matrix(y_test, y_pred)\n",
    "cr = classification_report(y_test, y_pred)\n",
    "f1 = f1_score(y_test, y_pred)\n",
    "roc_auc = roc_auc_score(y_test, y_pred)\n",
    "\n",
    "print(f\"Accuracy: {accuracy}\")\n",
    "print(f\"AUC: {roc_auc}\")\n",
    "print(\"Confusion Matrix:\")\n",
    "print(cm)\n",
    "print(\"Classification Report:\")\n",
    "print(cr)"
   ]
  },
  {
   "cell_type": "code",
   "execution_count": 56,
   "id": "95ee2cac-0ba1-40be-baa5-f8e0493d2f22",
   "metadata": {},
   "outputs": [
    {
     "data": {
      "text/plain": [
       "<Axes: >"
      ]
     },
     "execution_count": 56,
     "metadata": {},
     "output_type": "execute_result"
    },
    {
     "data": {
      "image/png": "[encoded data removed]",
      "text/plain": [
       "<Figure size 640x480 with 2 Axes>"
      ]
     },
     "metadata": {},
     "output_type": "display_data"
    }
   ],
   "source": [
    "import seaborn as sns\n",
    "sns.heatmap(cm, annot=True)"
   ]
  },
  {
   "cell_type": "code",
   "execution_count": 57,
   "id": "a950afc2-8655-4357-946f-ff6a160e4767",
   "metadata": {},
   "outputs": [],
   "source": [
    "predicted_vs_original_labels = pd.merge(labels, y_pred_list, on='SAMPLE_ID', how='inner')\n",
    "predicted_vs_original_labels.to_csv('predicted_vs_original_labelsv1_modelv8.csv')"
   ]
  },
  {
   "cell_type": "markdown",
   "id": "fd825484-cf6a-456d-9324-451e022ddf97",
   "metadata": {},
   "source": [
    "## Repeat 8th model run - labels v2, my choice features"
   ]
  },
  {
   "cell_type": "code",
   "execution_count": 58,
   "id": "b8bd6843-6204-4e42-9847-dada23fa0cf4",
   "metadata": {},
   "outputs": [],
   "source": [
    "labels_r = pd.read_csv('./../../labels/labels_v2/labels_v2.csv', index_col=0)\n",
    "\n",
    "table_v8_r = pd.merge(my_choice_features, labels_r, on='SAMPLE_ID', how='inner')\n",
    "\n",
    "table_v8_r = table_v8_r.drop(columns=['Unnamed: 0'], errors='ignore')\n",
    "\n",
    "table_v8_r = table_v8_r.set_index('SAMPLE_ID', inplace=False)\n",
    "table_v8_r.to_csv('merged_features_and_labelsv2_v8.csv')"
   ]
  },
  {
   "cell_type": "code",
   "execution_count": 59,
   "id": "3fd2e2c3-a63e-4558-97c6-520082dda5c0",
   "metadata": {},
   "outputs": [],
   "source": [
    "columns_to_drop = ['labels_v2']\n",
    "\n",
    "# features definition\n",
    "X = table_v8_r.drop(columns_to_drop, axis=1)\n",
    "\n",
    "# labels definition\n",
    "y = table_v8_r['labels_v2'] # labels\n",
    "\n",
    "original_indices = X.index"
   ]
  },
  {
   "cell_type": "code",
   "execution_count": 60,
   "id": "ca06e9e6-ab39-4a40-a97e-fd8e5553bc43",
   "metadata": {},
   "outputs": [],
   "source": [
    "X_train, X_test, y_train, y_test, idx_train, idx_test = train_test_split(X, y, original_indices, test_size=0.3, random_state=42)"
   ]
  },
  {
   "cell_type": "code",
   "execution_count": 61,
   "id": "786faab3-05fe-4809-bd72-fd0c0b6ce7e0",
   "metadata": {},
   "outputs": [
    {
     "name": "stdout",
     "output_type": "stream",
     "text": [
      "Cross-validation scores: [0.89473684 0.89473684 0.89473684 0.89473684 0.89473684]\n",
      "Mean precision: 0.8947368421052632\n"
     ]
    }
   ],
   "source": [
    "model = LogisticRegression()\n",
    "model.fit(X_train, y_train)\n",
    "\n",
    "scores = cross_val_score(model, X, y, cv=5, scoring='precision')\n",
    "\n",
    "# Print the cross-validation scores\n",
    "print(\"Cross-validation scores:\", scores)\n",
    "print(\"Mean precision:\", scores.mean())"
   ]
  },
  {
   "cell_type": "code",
   "execution_count": 62,
   "id": "1c895158-17c2-42da-8aab-120ea8326db3",
   "metadata": {},
   "outputs": [],
   "source": [
    "y_pred = model.predict(X_test)\n",
    "\n",
    "y_pred_list = pd.DataFrame(y_pred, columns=['Predicted'], index=idx_test)\n",
    "y_pred_list.to_csv('predicted_labelsv2_test_set_v8.csv')"
   ]
  },
  {
   "cell_type": "code",
   "execution_count": 63,
   "id": "d3981eaf-5ec7-443e-8408-5d8b2333e19a",
   "metadata": {},
   "outputs": [
    {
     "name": "stdout",
     "output_type": "stream",
     "text": [
      "Accuracy: 0.8620689655172413\n",
      "AUC: 0.5\n",
      "Confusion Matrix:\n",
      "[[ 0  4]\n",
      " [ 0 25]]\n",
      "Classification Report:\n",
      "              precision    recall  f1-score   support\n",
      "\n",
      "           0       0.00      0.00      0.00         4\n",
      "           1       0.86      1.00      0.93        25\n",
      "\n",
      "    accuracy                           0.86        29\n",
      "   macro avg       0.43      0.50      0.46        29\n",
      "weighted avg       0.74      0.86      0.80        29\n",
      "\n"
     ]
    },
    {
     "name": "stderr",
     "output_type": "stream",
     "text": [
      "/home/klaudiautm/PycharmProjects/final_project/venv/lib/python3.10/site-packages/sklearn/metrics/_classification.py:1517: UndefinedMetricWarning: Precision is ill-defined and being set to 0.0 in labels with no predicted samples. Use `zero_division` parameter to control this behavior.\n",
      "  _warn_prf(average, modifier, f\"{metric.capitalize()} is\", len(result))\n",
      "/home/klaudiautm/PycharmProjects/final_project/venv/lib/python3.10/site-packages/sklearn/metrics/_classification.py:1517: UndefinedMetricWarning: Precision is ill-defined and being set to 0.0 in labels with no predicted samples. Use `zero_division` parameter to control this behavior.\n",
      "  _warn_prf(average, modifier, f\"{metric.capitalize()} is\", len(result))\n",
      "/home/klaudiautm/PycharmProjects/final_project/venv/lib/python3.10/site-packages/sklearn/metrics/_classification.py:1517: UndefinedMetricWarning: Precision is ill-defined and being set to 0.0 in labels with no predicted samples. Use `zero_division` parameter to control this behavior.\n",
      "  _warn_prf(average, modifier, f\"{metric.capitalize()} is\", len(result))\n"
     ]
    }
   ],
   "source": [
    "accuracy = accuracy_score(y_test, y_pred)\n",
    "cm = confusion_matrix(y_test, y_pred)\n",
    "cr = classification_report(y_test, y_pred)\n",
    "f1 = f1_score(y_test, y_pred)\n",
    "roc_auc = roc_auc_score(y_test, y_pred)\n",
    "\n",
    "print(f\"Accuracy: {accuracy}\")\n",
    "print(f\"AUC: {roc_auc}\")\n",
    "print(\"Confusion Matrix:\")\n",
    "print(cm)\n",
    "print(\"Classification Report:\")\n",
    "print(cr)"
   ]
  },
  {
   "cell_type": "code",
   "execution_count": 64,
   "id": "ed4aca85-e966-4384-a0e0-d9e60a5d9203",
   "metadata": {},
   "outputs": [
    {
     "data": {
      "text/plain": [
       "<Axes: >"
      ]
     },
     "execution_count": 64,
     "metadata": {},
     "output_type": "execute_result"
    },
    {
     "data": {
      "image/png": "[encoded data removed]",
      "text/plain": [
       "<Figure size 640x480 with 2 Axes>"
      ]
     },
     "metadata": {},
     "output_type": "display_data"
    }
   ],
   "source": [
    "import seaborn as sns\n",
    "sns.heatmap(cm, annot=True)"
   ]
  },
  {
   "cell_type": "code",
   "execution_count": 65,
   "id": "666addee-bcfb-4bf6-a6e8-7eb1510c3d75",
   "metadata": {},
   "outputs": [],
   "source": [
    "predicted_vs_original_labels = pd.merge(labels, y_pred_list, on='SAMPLE_ID', how='inner')\n",
    "predicted_vs_original_labels.to_csv('predicted_vs_original_labelsv2_modelv8.csv')"
   ]
  },
  {
   "cell_type": "code",
   "execution_count": null,
   "id": "0c187af9-41c4-4a78-973c-d10948efc174",
   "metadata": {},
   "outputs": [],
   "source": []
  }
 ],
 "metadata": {
  "kernelspec": {
   "display_name": "Python 3 (ipykernel)",
   "language": "python",
   "name": "python3"
  },
  "language_info": {
   "codemirror_mode": {
    "name": "ipython",
    "version": 3
   },
   "file_extension": ".py",
   "mimetype": "text/x-python",
   "name": "python",
   "nbconvert_exporter": "python",
   "pygments_lexer": "ipython3",
   "version": "3.10.12"
  }
 },
 "nbformat": 4,
 "nbformat_minor": 5
}

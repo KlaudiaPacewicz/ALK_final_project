{
 "cells": [
  {
   "cell_type": "code",
   "execution_count": 2,
   "id": "e274260f-3f1d-4863-92ec-91cbc5100a94",
   "metadata": {},
   "outputs": [],
   "source": [
    "import pandas as pd\n",
    "import numpy as np"
   ]
  },
  {
   "cell_type": "markdown",
   "id": "dc20c7fb-0eff-4c37-a869-3b3a68be4f6a",
   "metadata": {},
   "source": [
    "# Import labels from all repositories"
   ]
  },
  {
   "cell_type": "code",
   "execution_count": 5,
   "id": "9cff6bf6-0b4a-474d-957f-a55a1f64fa59",
   "metadata": {},
   "outputs": [],
   "source": [
    "r1_labels = pd.read_csv('./../../labels/basis_for_sample_labeling/Repository1_samples_with_labels.csv')\n",
    "r2_labels = pd.read_csv('./../../labels/basis_for_sample_labeling/Repository2_samples_with_labels.csv')\n",
    "r3_labels = pd.read_csv('./../../labels/basis_for_sample_labeling/Repository3_samples_with_labels.csv')"
   ]
  },
  {
   "cell_type": "markdown",
   "id": "3e70d6c2-3b5f-4ded-8825-8f4ed7b1506a",
   "metadata": {},
   "source": [
    "## Preparation of labels from repository 1"
   ]
  },
  {
   "cell_type": "code",
   "execution_count": 22,
   "id": "96909226-f510-4b6d-b149-5a0e0a7e6faa",
   "metadata": {},
   "outputs": [
    {
     "name": "stdout",
     "output_type": "stream",
     "text": [
      "    Unnamed: 0    SAMPLE_ID                     label\n",
      "0            2  Sample_0003            true_responder\n",
      "1            3  Sample_0004    responder_based_on_PFS\n",
      "2            8  Sample_0009     responder_based_on_SD\n",
      "3           10  Sample_0011    responder_based_on_PFS\n",
      "4           11  Sample_0012  nonresponder_based_on_SD\n",
      "..         ...          ...                       ...\n",
      "70         125  Sample_0126    responder_based_on_PFS\n",
      "71         127  Sample_0128     responder_based_on_SD\n",
      "72         130  Sample_0131            true_responder\n",
      "73         132  Sample_0133  nonresponder_based_on_SD\n",
      "74         133  Sample_0134  nonresponder_based_on_SD\n",
      "\n",
      "[75 rows x 3 columns]\n"
     ]
    }
   ],
   "source": [
    "r1_labels.drop(columns='Unnamed: 0', axis='columns')\n",
    "print(r1_labels)"
   ]
  },
  {
   "cell_type": "code",
   "execution_count": null,
   "id": "63d3529f-ca6e-4596-8dea-6ca3860cdc6f",
   "metadata": {},
   "outputs": [],
   "source": []
  }
 ],
 "metadata": {
  "kernelspec": {
   "display_name": "Python 3 (ipykernel)",
   "language": "python",
   "name": "python3"
  },
  "language_info": {
   "codemirror_mode": {
    "name": "ipython",
    "version": 3
   },
   "file_extension": ".py",
   "mimetype": "text/x-python",
   "name": "python",
   "nbconvert_exporter": "python",
   "pygments_lexer": "ipython3",
   "version": "3.10.12"
  }
 },
 "nbformat": 4,
 "nbformat_minor": 5
}

{
 "cells": [
  {
   "cell_type": "code",
   "execution_count": null,
   "id": "01b06df3-f453-4874-8826-87dc6839fa0b",
   "metadata": {},
   "outputs": [],
   "source": []
  }
 ],
 "metadata": {
  "kernelspec": {
   "display_name": "",
   "name": ""
  },
  "language_info": {
   "name": ""
  }
 },
 "nbformat": 4,
 "nbformat_minor": 5
}
